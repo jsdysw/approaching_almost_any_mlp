{
  "nbformat": 4,
  "nbformat_minor": 0,
  "metadata": {
    "colab": {
      "provenance": [],
      "authorship_tag": "ABX9TyPYwBEycS9r+bd2PUaj8e+O",
      "include_colab_link": true
    },
    "kernelspec": {
      "name": "python3",
      "display_name": "Python 3"
    },
    "language_info": {
      "name": "python"
    }
  },
  "cells": [
    {
      "cell_type": "markdown",
      "metadata": {
        "id": "view-in-github",
        "colab_type": "text"
      },
      "source": [
        "<a href=\"https://colab.research.google.com/github/jsdysw/approaching_almost_any_mlp/blob/master/categorical_variables.ipynb\" target=\"_parent\"><img src=\"https://colab.research.google.com/assets/colab-badge.svg\" alt=\"Open In Colab\"/></a>"
      ]
    },
    {
      "cell_type": "markdown",
      "source": [
        "# Label Encoding"
      ],
      "metadata": {
        "id": "IP_0l0JcLIwx"
      }
    },
    {
      "cell_type": "code",
      "execution_count": 2,
      "metadata": {
        "id": "kVao7v2lLPyC"
      },
      "outputs": [],
      "source": [
        "mapping = {\n",
        "    \"Freezing\":0,\n",
        "    \"Warm\":1,\n",
        "    \"Cold\":2,\n",
        "    \"Boiling Hot\":3,\n",
        "    \"Hot\":4,\n",
        "    \"Lava Hot\":5\n",
        "}"
      ]
    },
    {
      "cell_type": "code",
      "source": [
        "import pandas as pd\n",
        "\n",
        "# download dataset from https://www.kaggle.com/competitions/cat-in-the-dat-ii/data\n",
        "\n",
        "df = pd.read_csv(\"./train.csv\")\n",
        "print(df.ord_2.value_counts())\n",
        "\n",
        "df.loc[:, \"ord_2\"] = df.ord_2.map(mapping)\n",
        "print(df.ord_2.value_counts())"
      ],
      "metadata": {
        "colab": {
          "base_uri": "https://localhost:8080/"
        },
        "id": "m7p-hHH7Jake",
        "outputId": "58d97c2e-583d-44e7-ee13-b9e40bff0ebb"
      },
      "execution_count": 8,
      "outputs": [
        {
          "output_type": "stream",
          "name": "stdout",
          "text": [
            "Freezing       142726\n",
            "Warm           124239\n",
            "Cold            97822\n",
            "Boiling Hot     84790\n",
            "Hot             67508\n",
            "Lava Hot        64840\n",
            "Name: ord_2, dtype: int64\n",
            "0.0    142726\n",
            "1.0    124239\n",
            "2.0     97822\n",
            "3.0     84790\n",
            "4.0     67508\n",
            "5.0     64840\n",
            "Name: ord_2, dtype: int64\n"
          ]
        }
      ]
    },
    {
      "cell_type": "code",
      "source": [
        "import pandas as pd\n",
        "from sklearn import preprocessing\n",
        "\n",
        "# download dataset from https://www.kaggle.com/competitions/cat-in-the-dat-ii/data\n",
        "\n",
        "df = pd.read_csv(\"./train.csv\")\n",
        "df.loc[:, \"ord_2\"] = df.ord_2.fillna(\"NONE\")\n",
        "\n",
        "lbl_enc = preprocessing.LabelEncoder()\n",
        "df.loc[:, \"ord_2\"] = lbl_enc.fit_transform(df.ord_2.values)"
      ],
      "metadata": {
        "id": "cCVefPiJLNFk"
      },
      "execution_count": 9,
      "outputs": []
    },
    {
      "cell_type": "code",
      "source": [
        "# Above kind of label encoding cannot be used in linear model, svm or neural networks\n",
        "# For these type of models, we can binarize the data\n",
        "\n",
        "'''\n",
        "  Freezing    -->   0 --> 0 0 0 \n",
        "  Warm        -->   1 --> 0 0 1\n",
        "  Cold        -->   2 --> 0 1 0\n",
        "  Boiling Hot -->   3 --> 0 1 1\n",
        "  Hot         -->   4 --> 1 0 0\n",
        "  Lava Hot    -->   5 --> 1 0 1\n",
        "               8 byte --> 72 bytes\n",
        "'''\n",
        "# to save memory let's save them as sparse matrix\n",
        "\n",
        "import numpy as np\n",
        "from scipy import sparse\n",
        "\n",
        "example = np.array(\n",
        "    [\n",
        "        [0, 0, 1],\n",
        "        [1, 0, 0],\n",
        "        [1, 0, 1]\n",
        "    ]\n",
        ")\n",
        "\n",
        "print(f\"Size of dense array: {example.nbytes}\")\n",
        "\n",
        "sparse_example = sparse.csr_matrix(example)\n",
        "print(sparse_example)\n",
        "print(f\"Size of sparse array: {sparse_example.data.nbytes}\")\n",
        "\n",
        "full_size = (\n",
        "    sparse_example.data.nbytes +\n",
        "    sparse_example.indptr.nbytes +\n",
        "    sparse_example. indices.nbytes\n",
        ")\n",
        "print(f\"Full size of sparse array: {full_size}\")"
      ],
      "metadata": {
        "colab": {
          "base_uri": "https://localhost:8080/"
        },
        "id": "0TRGuTz0LPVa",
        "outputId": "f576d07d-4980-424a-84e0-d9d4bd3e330b"
      },
      "execution_count": 15,
      "outputs": [
        {
          "output_type": "stream",
          "name": "stdout",
          "text": [
            "Size of dense array: 72\n",
            "  (0, 2)\t1\n",
            "  (1, 0)\t1\n",
            "  (2, 0)\t1\n",
            "  (2, 2)\t1\n",
            "Size of sparse array: 32\n",
            "Full size of sparse array: 64\n"
          ]
        }
      ]
    }
  ]
}