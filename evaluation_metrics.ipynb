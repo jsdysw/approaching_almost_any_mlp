{
  "nbformat": 4,
  "nbformat_minor": 0,
  "metadata": {
    "colab": {
      "provenance": [],
      "authorship_tag": "ABX9TyPgBZ+rWCnWQ9Q+ZeR8DDht",
      "include_colab_link": true
    },
    "kernelspec": {
      "name": "python3",
      "display_name": "Python 3"
    },
    "language_info": {
      "name": "python"
    }
  },
  "cells": [
    {
      "cell_type": "markdown",
      "metadata": {
        "id": "view-in-github",
        "colab_type": "text"
      },
      "source": [
        "<a href=\"https://colab.research.google.com/github/jsdysw/approaching_almost_any_mlp/blob/master/evaluation_metrics.ipynb\" target=\"_parent\"><img src=\"https://colab.research.google.com/assets/colab-badge.svg\" alt=\"Open In Colab\"/></a>"
      ]
    },
    {
      "cell_type": "code",
      "execution_count": 1,
      "metadata": {
        "id": "MOUqhP_DYydO"
      },
      "outputs": [],
      "source": [
        "def accuracy(y_true, y_pred):\n",
        "  correct_counter = 0\n",
        "  for yt, yp in zip(y_true, y_pred):\n",
        "    if yt == yp:\n",
        "      correct_counter += 1\n",
        "  return correct_counter / len(y_true)"
      ]
    },
    {
      "cell_type": "code",
      "source": [
        "def true_positive(y_true, y_pred):\n",
        "  tp = 0\n",
        "  for yt, yp in zip(y_true, y_pred):\n",
        "    if yt == 1 and yp == 1:\n",
        "      tp += 1\n",
        "  return tp\n",
        "\n",
        "def true_negative(y_true, y_pred):\n",
        "  tn = 0\n",
        "  for yt, yp in zip(y_true, y_pred):\n",
        "    if yt == 0 and yp == 0:\n",
        "      tn += 1\n",
        "  return tn\n",
        "\n",
        "def false_positive(y_true, y_pred):\n",
        "  fp = 0\n",
        "  for yt, yp in zip(y_true, y_pred):\n",
        "    if yt == 0 and yp == 1:\n",
        "      fp += 1\n",
        "  return fp\n",
        "\n",
        "def false_negative(y_true, y_pred):\n",
        "  fn = 0\n",
        "  for yt, yp in zip(y_true, y_pred):\n",
        "    if yt ==1 and yp == 0:\n",
        "      fn += 1\n",
        "  return fn"
      ],
      "metadata": {
        "id": "r5k2YIN6t6fs"
      },
      "execution_count": 2,
      "outputs": []
    },
    {
      "cell_type": "code",
      "source": [
        "def accuracy_v2(y_true, y_pred):\n",
        "  tp = true_positive(y_true, y_pred)\n",
        "  fp = false_positive(y_true, y_pred)\n",
        "  tn = true_negative(y_true, y_pred)\n",
        "  fn = false_negative(y_true, y_pred)\n",
        "  accuracy_score = (tp + tn) / (tp + fp + tn + fn)\n",
        "  return accuracy_score"
      ],
      "metadata": {
        "id": "vSpplYHzvKz2"
      },
      "execution_count": 3,
      "outputs": []
    },
    {
      "cell_type": "code",
      "source": [
        "def precision(y_true, y_pred):\n",
        "  tp = true_positive(y_true, y_pred)\n",
        "  fp = false_positive(y_true, y_pred)\n",
        "  precision = tp / (tp + fp)\n",
        "  return precision"
      ],
      "metadata": {
        "id": "SopvaHTovnm9"
      },
      "execution_count": 4,
      "outputs": []
    },
    {
      "cell_type": "code",
      "source": [
        "def recall(y_true, y_pred):\n",
        "  tp = true_positive(y_true, y_pred)\n",
        "  fn = false_negative(y_true, y_pred)\n",
        "  recall = tp / (tp + fn)\n",
        "  return recall"
      ],
      "metadata": {
        "id": "n930NFHHx7zI"
      },
      "execution_count": 5,
      "outputs": []
    },
    {
      "cell_type": "markdown",
      "source": [
        "#Precesion-recall graph\n",
        "\n",
        "\n"
      ],
      "metadata": {
        "id": "tlavQ-i3WK0B"
      }
    },
    {
      "cell_type": "code",
      "source": [
        "y_true = [0, 0, 0, 1, 0, 0, 0, 0, 0, 0, \n",
        "          1, 0, 0, 0, 0, 0, 0, 0, 1, 0]\n",
        "\n",
        "y_pred = [0.0263, 0.1111, 0.3162, 0.0490, \n",
        "          0.0191, 0.1755, 0.1595, 0.0381, \n",
        "          0.1163, 0.0793, 0.0858, 0.3909, \n",
        "          0.2725, 0.0344, 0.0464, 0.0354, \n",
        "          0.1852, 0.0593, 0.6197, 0.3305]"
      ],
      "metadata": {
        "id": "1PJn0MWYWS58"
      },
      "execution_count": 6,
      "outputs": []
    },
    {
      "cell_type": "code",
      "source": [
        "precisions = []\n",
        "recalls = []\n",
        "thresholds = [0.04, 0.05, 0.07, \n",
        "               0.08, 0.11, 0.15, \n",
        "               0.17, 0.18, 0.21, \n",
        "               0.27, 0.31, 0.33, \n",
        "               0.39, 0.61]\n",
        "\n",
        "for i in thresholds:\n",
        "  temp_prediction = [1 if x >= i else 0 for x in y_pred]\n",
        "  p = precision(y_true, temp_prediction)\n",
        "  r = recall(y_true, temp_prediction)\n",
        "  precisions.append(p)\n",
        "  recalls.append(r)"
      ],
      "metadata": {
        "id": "GL53uEwYWxLD"
      },
      "execution_count": 7,
      "outputs": []
    },
    {
      "cell_type": "code",
      "source": [
        "import matplotlib.pyplot as plt\n",
        "\n",
        "plt.figure(figsize=(7,7))\n",
        "plt.plot(recalls, precisions)\n",
        "plt.xlabel('Recall', fontsize=15)\n",
        "plt.ylabel('Precision', fontsize=15)"
      ],
      "metadata": {
        "colab": {
          "base_uri": "https://localhost:8080/",
          "height": 465
        },
        "id": "WDpAUg_hXbbH",
        "outputId": "d672d3a5-6025-44b2-f6f4-f5eda44692c7"
      },
      "execution_count": 8,
      "outputs": [
        {
          "output_type": "execute_result",
          "data": {
            "text/plain": [
              "Text(0, 0.5, 'Precision')"
            ]
          },
          "metadata": {},
          "execution_count": 8
        },
        {
          "output_type": "display_data",
          "data": {
            "text/plain": [
              "<Figure size 504x504 with 1 Axes>"
            ],
            "image/png": "[encoded data removed]"
          },
          "metadata": {
            "needs_background": "light"
          }
        }
      ]
    },
    {
      "cell_type": "code",
      "source": [
        "def f1(y_true, y_pred):\n",
        "  p = precision(y_true, y_pred)\n",
        "  r = recall(y_true, y_pred)\n",
        "\n",
        "  score = 2 * p * r / (p + r)\n",
        "  return score"
      ],
      "metadata": {
        "id": "1tAnm4E1fz6u"
      },
      "execution_count": 9,
      "outputs": []
    },
    {
      "cell_type": "markdown",
      "source": [
        "#True positive rate (TPR)\n",
        "- recall, sensitivity\n"
      ],
      "metadata": {
        "id": "jd8ZZjkuhoSL"
      }
    },
    {
      "cell_type": "code",
      "source": [
        "def tpr(y_true, y_pred):\n",
        "  return recall(y_true, y_pred)"
      ],
      "metadata": {
        "id": "RBRQ4fcNhtOE"
      },
      "execution_count": 10,
      "outputs": []
    },
    {
      "cell_type": "markdown",
      "source": [
        "# False positive rate (FPR)\n",
        "- specificity, True Negative Rate"
      ],
      "metadata": {
        "id": "-jntSVSviEF5"
      }
    },
    {
      "cell_type": "code",
      "source": [
        "def fpr(y_true, y_pred):\n",
        "  fp = false_positive(y_true, y_pred)\n",
        "  tn = true_negative(y_true, y_pred)\n",
        "  return fp / (tn + fp)"
      ],
      "metadata": {
        "id": "iFBuKbeviDRk"
      },
      "execution_count": 11,
      "outputs": []
    },
    {
      "cell_type": "markdown",
      "source": [
        "#Receiver Operating Characteristic (ROC)"
      ],
      "metadata": {
        "id": "6pjJnGHzl9lt"
      }
    },
    {
      "cell_type": "code",
      "source": [
        "tpr_list = []\n",
        "fpr_list = []\n",
        "\n",
        "y_true = [0, 0, 0, 0, 1, 0, 1,\n",
        "          0, 0, 1, 0, 1, 0, 0, 1]\n",
        "y_pred = [0.1, 0.3, 0.2, 0.6, 0.8, 0.05,\n",
        "          0.9, 0.5, 0.3, 0.66, 0.3, 0.2,\n",
        "          0.85, 0.15, 0.99]\n",
        "thresholds = [0, 0.1, 0.2, 0.3, 0.4, 0.5,\n",
        "              0.6, 0.7, 0.8, 0.85, 0.9, 0.99, 1.0]\n",
        "\n",
        "for thresh in thresholds:\n",
        "  temp_pred = [1 if x >= thresh else 0 for x in y_pred]\n",
        "  temp_tpr = tpr(y_true, temp_pred)\n",
        "  temp_fpr = fpr(y_true, temp_pred)\n",
        "  tpr_list.append(temp_tpr)\n",
        "  fpr_list.append(temp_fpr)"
      ],
      "metadata": {
        "id": "ira21eHSkVa1"
      },
      "execution_count": 12,
      "outputs": []
    },
    {
      "cell_type": "code",
      "source": [
        "import matplotlib.pyplot as plt\n",
        "\n",
        "plt.figure(figsize=(7,7))\n",
        "plt.fill_between(fpr_list, tpr_list, alpha=0.4)\n",
        "plt.plot(fpr_list, tpr_list, lw=3)\n",
        "plt.xlim(0, 1.0)\n",
        "plt.ylim(0, 1.0)\n",
        "plt.xlabel('FPR', fontsize=15)\n",
        "plt.ylabel('TPR', fontsize=15)\n",
        "plt.show"
      ],
      "metadata": {
        "colab": {
          "base_uri": "https://localhost:8080/",
          "height": 469
        },
        "id": "JEwJGfi6lcSt",
        "outputId": "e57a41c9-169e-4292-d3df-350fd290fd49"
      },
      "execution_count": 13,
      "outputs": [
        {
          "output_type": "execute_result",
          "data": {
            "text/plain": [
              "<function matplotlib.pyplot.show(*args, **kw)>"
            ]
          },
          "metadata": {},
          "execution_count": 13
        },
        {
          "output_type": "display_data",
          "data": {
            "text/plain": [
              "<Figure size 504x504 with 1 Axes>"
            ],
            "image/png": "[encoded data removed]"
          },
          "metadata": {
            "needs_background": "light"
          }
        }
      ]
    },
    {
      "cell_type": "markdown",
      "source": [
        "If we calculate the area under this ROC curve, we are calculating **Area Under ROC Curve, Area Under Curve, AUC**"
      ],
      "metadata": {
        "id": "_7PZVDbcmM77"
      }
    },
    {
      "cell_type": "code",
      "source": [
        "from sklearn import metrics\n",
        "y_true = [0, 0, 0, 0, 1, 0, 1,\n",
        "          0, 0, 1, 0, 1, 0, 0, 1]\n",
        "y_pred = [0.1, 0.3, 0.2, 0.6, 0.8, 0.05,\n",
        "          0.9, 0.5, 0.3, 0.66, 0.3, 0.2,\n",
        "          0.85, 0.15, 0.99]\n",
        "metrics.roc_auc_score(y_true, y_pred)"
      ],
      "metadata": {
        "colab": {
          "base_uri": "https://localhost:8080/"
        },
        "id": "_4QYOtFimMl4",
        "outputId": "1d100bf4-3533-47d0-e887-9025c002d301"
      },
      "execution_count": 14,
      "outputs": [
        {
          "output_type": "execute_result",
          "data": {
            "text/plain": [
              "0.8300000000000001"
            ]
          },
          "metadata": {},
          "execution_count": 14
        }
      ]
    },
    {
      "cell_type": "markdown",
      "source": [
        "# Log Loss"
      ],
      "metadata": {
        "id": "t20Y1RwcLpSG"
      }
    },
    {
      "cell_type": "code",
      "source": [
        "import numpy as np\n",
        "\n",
        "def log_loss(y_true, y_proba):\n",
        "  epsilon = 1e-15\n",
        "  loss = []\n",
        "  for yt, yp in zip(y_true, y_proba):\n",
        "    yp = np.clip(yp, epsilon, 1 - epsilon)\n",
        "    temp_loss = -1.0 * (\n",
        "        yt * np.log(yp)\n",
        "        + (1 - yt) * np.log(1 - yp)\n",
        "    )\n",
        "    loss.append(temp_loss)\n",
        "    \n",
        "  return np.mean(loss)"
      ],
      "metadata": {
        "id": "X6XfxiavLpph"
      },
      "execution_count": 15,
      "outputs": []
    },
    {
      "cell_type": "markdown",
      "source": [
        "# Multi-class classification\n"
      ],
      "metadata": {
        "id": "ncKWYKdywTD4"
      }
    },
    {
      "cell_type": "code",
      "source": [
        "import numpy as np\n",
        "\n",
        "def macro_precision(y_true, y_pred):\n",
        "  num_classes = len(np.unique(y_true))\n",
        "  precision = 0\n",
        "  for class_ in range(num_classes):\n",
        "    temp_true = [1 if p == class_ else 0 for p in y_true]\n",
        "    temp_pred = [1 if p == class_ else 0 for p in y_pred]\n",
        "\n",
        "    tp = true_positive(temp_true, temp_pred)\n",
        "    fp = false_positive(temp_true, temp_pred)\n",
        "\n",
        "    temp_precision = tp / (tp + fp)\n",
        "    precision += temp_precision\n",
        "\n",
        "  precision /= num_classes\n",
        "  return precision"
      ],
      "metadata": {
        "id": "z07n1ZqGwWkm"
      },
      "execution_count": 16,
      "outputs": []
    },
    {
      "cell_type": "code",
      "source": [
        "def micro_precision(y_true, y_pred):\n",
        "  num_classes = len(np.unique(y_true))\n",
        "  tp = 0\n",
        "  fp = 0\n",
        "  for class_ in range(num_classes):\n",
        "    temp_true = [1 if p == class_ else 0 for p in y_true]\n",
        "    temp_pred = [1 if p == class_ else 0 for p in y_pred]\n",
        "\n",
        "    tp += true_positive(temp_true, temp_pred)\n",
        "    fp += false_positive(temp_true, temp_pred)\n",
        "\n",
        "  precision = tp / (tp + fp)\n",
        "  return precision"
      ],
      "metadata": {
        "id": "edo_Is85zCRX"
      },
      "execution_count": 17,
      "outputs": []
    },
    {
      "cell_type": "code",
      "source": [
        "from collections import Counter\n",
        "\n",
        "def weighted_precision(y_true, y_pred):\n",
        "  num_classes = len(np.unique(y_true))\n",
        "  class_counts = Counter(y_true)  # {0:20, 1:15, 2:21}\n",
        "  precision = 0\n",
        "  for class_ in range(num_classes):\n",
        "    temp_true = [1 if p == class_ else 0 for p in y_true]\n",
        "    temp_pred = [1 if p == class_ else 0 for p in y_pred]\n",
        "\n",
        "    tp = true_positive(temp_true, temp_pred)\n",
        "    fp = false_positive(temp_true, temp_pred)\n",
        "        \n",
        "    temp_precision = tp / (tp + fp)\n",
        "    weighted_precision = class_counts[class_] * temp_precision\n",
        "\n",
        "    precision += weighted_precision\n",
        "  \n",
        "  overall_precision = precision / len(y_true)\n",
        "  return overall_precision"
      ],
      "metadata": {
        "id": "xIiKxIMx0qLU"
      },
      "execution_count": 18,
      "outputs": []
    },
    {
      "cell_type": "code",
      "source": [
        "from collections import Counter\n",
        "import numpy as np\n",
        "\n",
        "def weighted_f1(y_true, y_pred):\n",
        "  num_classes = len(np.unique(y_true))\n",
        "  class_counts = Counter(y_true)  # {0:20, 1:15, 2:21}\n",
        "  f1 = 0\n",
        "  for class_ in range(num_classes):\n",
        "    temp_true = [1 if p == class_ else 0 for p in y_true]\n",
        "    temp_pred = [1 if p == class_ else 0 for p in y_pred]\n",
        "\n",
        "    p = precision(temp_true, temp_pred)\n",
        "    r = recall(temp_true, temp_pred)\n",
        "\n",
        "    if p + r != 0:\n",
        "      temp_f1 = 2 * p * r / (p + r)\n",
        "    else:\n",
        "      temp_f1 = 0\n",
        "    \n",
        "    weighted_f1 = class_counts[class_] * temp_f1\n",
        "    f1 += weighted_f1\n",
        "  \n",
        "  overall_f1 = f1 / len(y_true)\n",
        "  return overall_f1"
      ],
      "metadata": {
        "id": "4jPSfBU6BXCz"
      },
      "execution_count": 19,
      "outputs": []
    }
  ]
}