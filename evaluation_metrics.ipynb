{
  "nbformat": 4,
  "nbformat_minor": 0,
  "metadata": {
    "colab": {
      "provenance": [],
      "authorship_tag": "ABX9TyNLHaZicMTD8rF+2fAJKpvk",
      "include_colab_link": true
    },
    "kernelspec": {
      "name": "python3",
      "display_name": "Python 3"
    },
    "language_info": {
      "name": "python"
    }
  },
  "cells": [
    {
      "cell_type": "markdown",
      "metadata": {
        "id": "view-in-github",
        "colab_type": "text"
      },
      "source": [
        "<a href=\"https://colab.research.google.com/github/jsdysw/approaching_almost_any_mlp/blob/master/evaluation_metrics.ipynb\" target=\"_parent\"><img src=\"https://colab.research.google.com/assets/colab-badge.svg\" alt=\"Open In Colab\"/></a>"
      ]
    },
    {
      "cell_type": "code",
      "execution_count": 59,
      "metadata": {
        "id": "MOUqhP_DYydO"
      },
      "outputs": [],
      "source": [
        "def accuracy(y_true, y_pred):\n",
        "  correct_counter = 0\n",
        "  for yt, yp in zip(y_true, y_pred):\n",
        "    if yt == yp:\n",
        "      correct_counter += 1\n",
        "  return correct_counter / len(y_true)"
      ]
    },
    {
      "cell_type": "code",
      "source": [
        "def true_positive(y_true, y_pred):\n",
        "  tp = 0\n",
        "  for yt, yp in zip(y_true, y_pred):\n",
        "    if yt == 1 and yp == 1:\n",
        "      tp += 1\n",
        "  return tp\n",
        "\n",
        "def true_negative(y_true, y_pred):\n",
        "  tn = 0\n",
        "  for yt, yp in zip(y_true, y_pred):\n",
        "    if yt == 0 and yp == 0:\n",
        "      tn += 1\n",
        "  return tn\n",
        "\n",
        "def false_positive(y_true, y_pred):\n",
        "  fp = 0\n",
        "  for yt, yp in zip(y_true, y_pred):\n",
        "    if yt == 0 and yp == 1:\n",
        "      fp += 1\n",
        "  return fp\n",
        "\n",
        "def false_negative(y_true, y_pred):\n",
        "  fn = 0\n",
        "  for yt, yp in zip(y_true, y_pred):\n",
        "    if yt ==1 and yp == 0:\n",
        "      fn += 1\n",
        "  return fn"
      ],
      "metadata": {
        "id": "r5k2YIN6t6fs"
      },
      "execution_count": 60,
      "outputs": []
    },
    {
      "cell_type": "code",
      "source": [
        "def accuracy_v2(y_true, y_pred):\n",
        "  tp = true_positive(y_true, y_pred)\n",
        "  fp = false_positive(y_true, y_pred)\n",
        "  tn = true_negative(y_true, y_pred)\n",
        "  fn = false_negative(y_true, y_pred)\n",
        "  accuracy_score = (tp + tn) / (tp + fp + tn + fn)\n",
        "  return accuracy_score"
      ],
      "metadata": {
        "id": "vSpplYHzvKz2"
      },
      "execution_count": 61,
      "outputs": []
    },
    {
      "cell_type": "code",
      "source": [
        "def precision(y_true, y_pred):\n",
        "  tp = true_positive(y_true, y_pred)\n",
        "  fp = false_positive(y_true, y_pred)\n",
        "  precision = tp / (tp + fp)\n",
        "  return precision"
      ],
      "metadata": {
        "id": "SopvaHTovnm9"
      },
      "execution_count": 62,
      "outputs": []
    },
    {
      "cell_type": "code",
      "source": [
        "def recall(y_true, y_pred):\n",
        "  tp = true_positive(y_true, y_pred)\n",
        "  fn = false_negative(y_true, y_pred)\n",
        "  recall = tp / (tp + fn)\n",
        "  return recall"
      ],
      "metadata": {
        "id": "n930NFHHx7zI"
      },
      "execution_count": 63,
      "outputs": []
    },
    {
      "cell_type": "markdown",
      "source": [
        "Precesion-recall graph"
      ],
      "metadata": {
        "id": "tlavQ-i3WK0B"
      }
    },
    {
      "cell_type": "code",
      "source": [
        "y_true = [0, 0, 0, 1, 0, 0, 0, 0, 0, 0, \n",
        "          1, 0, 0, 0, 0, 0, 0, 0, 1, 0]\n",
        "\n",
        "y_pred = [0.0263, 0.1111, 0.3162, 0.0490, \n",
        "          0.0191, 0.1755, 0.1595, 0.0381, \n",
        "          0.1163, 0.0793, 0.0858, 0.3909, \n",
        "          0.2725, 0.0344, 0.0464, 0.0354, \n",
        "          0.1852, 0.0593, 0.6197, 0.3305]"
      ],
      "metadata": {
        "id": "1PJn0MWYWS58"
      },
      "execution_count": 64,
      "outputs": []
    },
    {
      "cell_type": "code",
      "source": [
        "precisions = []\n",
        "recalls = []\n",
        "thresholds = [0.04, 0.05, 0.07, \n",
        "               0.08, 0.11, 0.15, \n",
        "               0.17, 0.18, 0.21, \n",
        "               0.27, 0.31, 0.33, \n",
        "               0.39, 0.61]\n",
        "\n",
        "for i in thresholds:\n",
        "  temp_prediction = [1 if x >= i else 0 for x in y_pred]\n",
        "  p = precision(y_true, temp_prediction)\n",
        "  r = recall(y_true, temp_prediction)\n",
        "  precisions.append(p)\n",
        "  recalls.append(r)"
      ],
      "metadata": {
        "id": "GL53uEwYWxLD"
      },
      "execution_count": 65,
      "outputs": []
    },
    {
      "cell_type": "code",
      "source": [
        "import matplotlib.pyplot as plt\n",
        "\n",
        "plt.figure(figsize=(7,7))\n",
        "plt.plot(recalls, precisions)\n",
        "plt.xlabel('Recall', fontsize=15)\n",
        "plt.ylabel('Precision', fontsize=15)"
      ],
      "metadata": {
        "colab": {
          "base_uri": "https://localhost:8080/",
          "height": 465
        },
        "id": "WDpAUg_hXbbH",
        "outputId": "5b484994-82c8-49f7-fb4a-c6cf80e4aeff"
      },
      "execution_count": 66,
      "outputs": [
        {
          "output_type": "execute_result",
          "data": {
            "text/plain": [
              "Text(0, 0.5, 'Precision')"
            ]
          },
          "metadata": {},
          "execution_count": 66
        },
        {
          "output_type": "display_data",
          "data": {
            "text/plain": [
              "<Figure size 504x504 with 1 Axes>"
            ],
            "image/png": "[encoded data removed]"
          },
          "metadata": {
            "needs_background": "light"
          }
        }
      ]
    }
  ]
}